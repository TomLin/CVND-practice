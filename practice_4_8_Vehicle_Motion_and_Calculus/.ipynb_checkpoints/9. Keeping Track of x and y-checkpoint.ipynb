{
 "cells": [
  {
   "cell_type": "markdown",
   "metadata": {},
   "source": [
    "# Keeping Track of Vehicle x and y\n",
    "\n",
    "Now that you know how to solve trigonometry problems, you can keep track of a vehicle's $x$ and $y$ coordinates as it moves in any direction. \n",
    "\n",
    "The goal of this lesson is for you to implement a few methods in a `Vehicle` class. Once complete, your code will be used like this:\n",
    "\n",
    "```python\n",
    "# instantiate vehicle\n",
    "v = Vehicle()\n",
    "\n",
    "# drive forward 10 meters\n",
    "v.drive_forward(10)\n",
    "\n",
    "# turn left in 10 increments of 9 degrees each.\n",
    "for _ in range(10):\n",
    "    v.turn(9.0)\n",
    "    v.drive_forward(1)\n",
    "\n",
    "v.drive_forward(10)\n",
    "\n",
    "v.show_trajectory()\n",
    "```\n",
    "\n",
    "and this final call to `show_trajectory` should produce a graph that looks like this:\n",
    "\n",
    "![](https://d17h27t6h515a5.cloudfront.net/topher/2017/December/5a3184b7_xy-traj/xy-traj.png)"
   ]
  },
  {
   "cell_type": "markdown",
   "metadata": {},
   "source": [
    "If, instead of calling \n",
    "\n",
    "```python\n",
    "v.show_trajectory()\n",
    "```\n",
    "\n",
    "we had written:\n",
    "\n",
    "```python\n",
    "print(v.history)\n",
    "```\n",
    "\n",
    "we would have seen a list of `(x,y)` tuples representing the vehicle's history that looks like this:\n",
    "\n",
    "```python\n",
    "[(0.0, 0.0),\n",
    " (10.0, 0.0),\n",
    " (10.988, 0.156),\n",
    " (11.939, 0.465),\n",
    " (12.830, 0.919),\n",
    " (13.639, 1.507),\n",
    " (14.346, 2.214),\n",
    " (14.934, 3.023),\n",
    " (15.388, 3.914),\n",
    " (15.697, 4.865),\n",
    " (15.853, 5.853),\n",
    " (15.853, 6.853)]\n",
    "```\n",
    "\n",
    "Note that it's this `history` data that is used to plot the points in `show_trajectory`."
   ]
  },
  {
   "cell_type": "code",
   "execution_count": 1,
   "metadata": {},
   "outputs": [],
   "source": [
    "import numpy as np\n",
    "from math import sin, cos, pi\n",
    "from matplotlib import pyplot as plt\n",
    "\n",
    "# TODO - Complete the methods in the vehicle class. If the \n",
    "#        requirements of any method are unclear, look at \n",
    "#        the testing code in testing.py (you'll need to\n",
    "#        click on the \"Jupyter\" logo in the top left and\n",
    "#        then open testing.py)\n",
    "#\n",
    "#        If you really get stuck, take a look at the \n",
    "#        solution code in the next segment.\n",
    "\n",
    "class Vehicle:\n",
    "    def __init__(self):\n",
    "        self.x       = 0.0 # meters\n",
    "        self.y       = 0.0\n",
    "        self.heading = 0.0 # radians\n",
    "        self.history = []\n",
    "        \n",
    "    def drive_forward(self, displacement):\n",
    "        \"\"\"\n",
    "        Updates x and y coordinates of vehicle based on \n",
    "        heading and appends previous (x,y) position to\n",
    "        history.\n",
    "        \"\"\"\n",
    "        \n",
    "        delta_x = displacement * cos(self.heading)\n",
    "        delta_y = displacement * sin(self.heading)\n",
    "        \n",
    "        new_x = self.x + delta_x\n",
    "        new_y = self.y + delta_y\n",
    "        \n",
    "        self.history.append((new_x, new_y)) # append a tuple\n",
    "        \n",
    "        self.x = new_x\n",
    "        self.y = new_y\n",
    "    \n",
    "    def set_heading(self, heading_in_degrees):\n",
    "        \"\"\"\n",
    "        Sets the current heading (in radians) to a new value\n",
    "        based on heading_in_degrees. Vehicle heading is always\n",
    "        between 0 and 2 * pi.\n",
    "        \"\"\"\n",
    "        \n",
    "        rads = (heading_in_degrees/180)*pi % (2*pi)\n",
    "        \n",
    "        self.heading = rads\n",
    "    \n",
    "    def turn(self, angle_in_degrees):\n",
    "        \"\"\"\n",
    "        Changes the vehicle's heading by angle_in_degrees. Vehicle \n",
    "        heading is always between 0 and 2 * pi.\n",
    "        \"\"\"\n",
    "        \n",
    "        rads = (angle_in_degrees/180)*pi\n",
    "        new_head = (self.heading + rads) % (2*pi)\n",
    "        self.heading = new_head\n",
    "    \n",
    "    def show_trajectory(self):\n",
    "        \"\"\"\n",
    "        Creates a scatter plot of vehicle's trajectory.\n",
    "        \"\"\"\n",
    "        \n",
    "        X = [p[0] for p in self.history]\n",
    "        Y = [p[1] for p in self.history]\n",
    "        \n",
    "        # include current position\n",
    "        X.append(self.x)\n",
    "        Y.append(self.y)\n",
    "        \n",
    "        plt.scatter(X,Y) # dotted plot\n",
    "        plt.plot(X,Y) # line plot\n",
    "        \n",
    "        plt.title(\"Vehicle Trajectory\")\n",
    "        plt.xlabel(\"Position X\")\n",
    "        plt.ylabel(\"Position Y\")\n",
    "        plt.axes().set_aspect(\"equal\", \"datalim\")\n",
    "        plt.show()"
   ]
  },
  {
   "cell_type": "code",
   "execution_count": 2,
   "metadata": {},
   "outputs": [
    {
     "name": "stdout",
     "output_type": "stream",
     "text": [
      "Your set_heading function looks good!\n",
      "Congratulations! Your vehicle's drive_forward method works\n"
     ]
    }
   ],
   "source": [
    "# Use this testing code to check your code for correctness.\n",
    "from testing import test_drive_forward, test_set_heading\n",
    "\n",
    "test_set_heading(Vehicle)\n",
    "test_drive_forward(Vehicle)"
   ]
  },
  {
   "cell_type": "code",
   "execution_count": 3,
   "metadata": {},
   "outputs": [
    {
     "name": "stderr",
     "output_type": "stream",
     "text": [
      "/Users/tomlin/miniconda3/lib/python3.6/site-packages/matplotlib/cbook/deprecation.py:107: MatplotlibDeprecationWarning: Adding an axes using the same arguments as a previous axes currently reuses the earlier instance.  In a future version, a new instance will always be created and returned.  Meanwhile, this warning can be suppressed, and the future behavior ensured, by passing a unique label to each axes instance.\n",
      "  warnings.warn(message, mplDeprecation, stacklevel=1)\n"
     ]
    },
    {
     "data": {
      "image/png": "[encoded data removed]",
      "text/plain": [
       "<Figure size 432x288 with 1 Axes>"
      ]
     },
     "metadata": {},
     "output_type": "display_data"
    }
   ],
   "source": [
    "# You'll have to \"test\" your show_trajectory method \n",
    "# visually. Run the code below and see if the plot that's\n",
    "# produced looks similar to the plot at the bottom of \n",
    "# this notebook.\n",
    "\n",
    "# instantiate vehicle\n",
    "v = Vehicle()\n",
    "\n",
    "# drive forward 10 meters\n",
    "v.drive_forward(10)\n",
    "\n",
    "# turn left in 10 increments of 9 degrees each.\n",
    "for _ in range(10):\n",
    "    v.turn(9.0)\n",
    "    v.drive_forward(1)\n",
    "\n",
    "v.drive_forward(10)\n",
    "\n",
    "v.show_trajectory()"
   ]
  },
  {
   "cell_type": "markdown",
   "metadata": {},
   "source": [
    "Reference plot from solution code \n",
    "![](https://d17h27t6h515a5.cloudfront.net/topher/2017/December/5a3184b7_xy-traj/xy-traj.png)"
   ]
  }
 ],
 "metadata": {
  "kernelspec": {
   "display_name": "Python 3",
   "language": "python",
   "name": "python3"
  },
  "language_info": {
   "codemirror_mode": {
    "name": "ipython",
    "version": 3
   },
   "file_extension": ".py",
   "mimetype": "text/x-python",
   "name": "python",
   "nbconvert_exporter": "python",
   "pygments_lexer": "ipython3",
   "version": "3.6.5"
  }
 },
 "nbformat": 4,
 "nbformat_minor": 2
}
